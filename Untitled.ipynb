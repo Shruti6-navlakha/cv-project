{
 "cells": [
  {
   "cell_type": "code",
   "execution_count": null,
   "id": "74f05314",
   "metadata": {},
   "outputs": [],
   "source": [
    "! pip install nltk"
   ]
  },
  {
   "cell_type": "code",
   "execution_count": null,
   "id": "61001be6",
   "metadata": {},
   "outputs": [],
   "source": [
    "import requests"
   ]
  },
  {
   "cell_type": "code",
   "execution_count": null,
   "id": "8a70c3d6",
   "metadata": {},
   "outputs": [],
   "source": [
    "import nltk\n",
    "import urllib\n",
    "import bs4 as bs\n",
    "import re\n",
    "nltk.download()"
   ]
  },
  {
   "cell_type": "code",
   "execution_count": null,
   "id": "6c485fbc",
   "metadata": {
    "scrolled": true
   },
   "outputs": [],
   "source": [
    "source = urllib.request.urlopen('https://insights.blackcoffer.com/how-is-login-logout-time-tracking-for-employees-in-office-done-by-ai/').read()"
   ]
  },
  {
   "cell_type": "code",
   "execution_count": null,
   "id": "e48b8036",
   "metadata": {},
   "outputs": [],
   "source": [
    "url = \"https://insights.blackcoffer.com/how-is-login-logout-time-tracking-for-employees-in-office-done-by-ai.html\"\n",
    "resp = requests.get(url)\n",
    "print (resp.status_code) # 200\n",
    "print (resp.content) # can be used in your beautifuls"
   ]
  },
  {
   "cell_type": "code",
   "execution_count": null,
   "id": "760f05f1",
   "metadata": {},
   "outputs": [],
   "source": [
    "soup = bs.BeautifulSoup(source,'lxml')"
   ]
  },
  {
   "cell_type": "code",
   "execution_count": null,
   "id": "d2dd583b",
   "metadata": {},
   "outputs": [],
   "source": [
    "text = \"\"\n",
    "for paragraph in soup.find_all('p'):\n",
    "    text +=paragraph.text"
   ]
  },
  {
   "cell_type": "code",
   "execution_count": null,
   "id": "bd790e11",
   "metadata": {},
   "outputs": [],
   "source": [
    "text = re.sub(r'[[0-9]*\\]','',text)\n",
    "text = re.sub(r'\\s+','',text)\n",
    "text = text.lower()\n",
    "text = re.sub(r'\\d','',text)\n",
    "text = re.sub(r'\\s+','',text)\n"
   ]
  },
  {
   "cell_type": "code",
   "execution_count": null,
   "id": "d486677e",
   "metadata": {},
   "outputs": [],
   "source": []
  }
 ],
 "metadata": {
  "kernelspec": {
   "display_name": "Python 3 (ipykernel)",
   "language": "python",
   "name": "python3"
  },
  "language_info": {
   "codemirror_mode": {
    "name": "ipython",
    "version": 3
   },
   "file_extension": ".py",
   "mimetype": "text/x-python",
   "name": "python",
   "nbconvert_exporter": "python",
   "pygments_lexer": "ipython3",
   "version": "3.9.7"
  }
 },
 "nbformat": 4,
 "nbformat_minor": 5
}
